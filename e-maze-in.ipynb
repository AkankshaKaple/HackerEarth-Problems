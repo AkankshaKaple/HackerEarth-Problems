{
 "cells": [
  {
   "cell_type": "code",
   "execution_count": null,
   "metadata": {},
   "outputs": [],
   "source": [
    "data = [[\"_\"]*10 for _ in range(15)]\n",
    "        \n",
    "chars = list(\"LLRDDR\")\n",
    "print(chars)\n",
    "r = 0\n",
    "c = 0\n",
    "for char in chars:\n",
    "    if char == \"L\":\n",
    "        c = c - 1\n",
    "        r = r\n",
    "    if char == \"R\":\n",
    "        c = c + 1\n",
    "        r = r\n",
    "    if char == \"U\":\n",
    "        c = c\n",
    "        r = r + 1\n",
    "\n",
    "    if char == \"D\":\n",
    "        c = c\n",
    "        r = r - 1        \n",
    "\n",
    "print(c, r)"
   ]
  }
 ],
 "metadata": {
  "kernelspec": {
   "display_name": "Python 3",
   "language": "python",
   "name": "python3"
  },
  "language_info": {
   "codemirror_mode": {
    "name": "ipython",
    "version": 3
   },
   "file_extension": ".py",
   "mimetype": "text/x-python",
   "name": "python",
   "nbconvert_exporter": "python",
   "pygments_lexer": "ipython3",
   "version": "3.6.9"
  }
 },
 "nbformat": 4,
 "nbformat_minor": 4
}
