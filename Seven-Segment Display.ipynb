{
 "cells": [
  {
   "cell_type": "code",
   "execution_count": null,
   "metadata": {},
   "outputs": [],
   "source": [
    "num_stick = {'0':6, '1':2, '2':5, '3':5, '4':4, '5':5, '6':6, '7':3, '8':7, '9':6}    \n",
    "\n",
    "tasks = int(input())\n",
    "\n",
    "for task in range(tasks):\n",
    "    no_of_sticks = 0\n",
    "    for i in list(input()):\n",
    "        no_of_sticks += num_stick[i]\n",
    "\n",
    "    number = \"\"\n",
    "    \n",
    "    while no_of_sticks > 0:\n",
    "        if no_of_sticks % 2 != 0:\n",
    "            no_of_sticks -= 3\n",
    "            number += '7'\n",
    "        else:\n",
    "            no_of_sticks -= 2\n",
    "            number += '1'\n",
    "\n",
    "    print(number)"
   ]
  }
 ],
 "metadata": {
  "kernelspec": {
   "display_name": "Python 3",
   "language": "python",
   "name": "python3"
  },
  "language_info": {
   "codemirror_mode": {
    "name": "ipython",
    "version": 3
   },
   "file_extension": ".py",
   "mimetype": "text/x-python",
   "name": "python",
   "nbconvert_exporter": "python",
   "pygments_lexer": "ipython3",
   "version": "3.6.9"
  }
 },
 "nbformat": 4,
 "nbformat_minor": 4
}
