{
 "cells": [
  {
   "cell_type": "code",
   "execution_count": 12,
   "metadata": {},
   "outputs": [
    {
     "name": "stdout",
     "output_type": "stream",
     "text": [
      "12 32\n"
     ]
    }
   ],
   "source": [
    "task = int(input())\n",
    "for i in range(task):\n",
    "    x = list(map(int, input().split()))\n",
    "    start = 60 * x[0] + x[1]\n",
    "    end = 60 * x[2] + x[3]\n",
    "    diff = end - start\n",
    "    hr = diff // 60\n",
    "    min = diff % 60 \n",
    "    print(hr, min)"
   ]
  }
 ],
 "metadata": {
  "kernelspec": {
   "display_name": "Python 3",
   "language": "python",
   "name": "python3"
  },
  "language_info": {
   "codemirror_mode": {
    "name": "ipython",
    "version": 3
   },
   "file_extension": ".py",
   "mimetype": "text/x-python",
   "name": "python",
   "nbconvert_exporter": "python",
   "pygments_lexer": "ipython3",
   "version": "3.6.9"
  }
 },
 "nbformat": 4,
 "nbformat_minor": 4
}
