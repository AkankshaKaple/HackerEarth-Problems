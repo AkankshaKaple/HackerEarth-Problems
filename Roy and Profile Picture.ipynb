{
 "cells": [
  {
   "cell_type": "code",
   "execution_count": 2,
   "metadata": {},
   "outputs": [
    {
     "name": "stdin",
     "output_type": "stream",
     "text": [
      " 180\n",
      " 1\n",
      " 120 300\n"
     ]
    },
    {
     "name": "stdout",
     "output_type": "stream",
     "text": [
      "UPLOAD ANOTHER\n"
     ]
    }
   ],
   "source": [
    "L = int(input())\n",
    "N = int(input())\n",
    "for n in range(N):\n",
    "    shape = input().split()\n",
    "    W = int(shape[0])\n",
    "    H = int(shape[1])\n",
    "    \n",
    "    if W < L or H < L:\n",
    "        print(\"UPLOAD ANOTHER\")\n",
    "    elif W == H:\n",
    "        print(\"ACCEPTED\")\n",
    "    else:\n",
    "        print(\"CROP IT\")"
   ]
  }
 ],
 "metadata": {
  "kernelspec": {
   "display_name": "Python 3",
   "language": "python",
   "name": "python3"
  },
  "language_info": {
   "codemirror_mode": {
    "name": "ipython",
    "version": 3
   },
   "file_extension": ".py",
   "mimetype": "text/x-python",
   "name": "python",
   "nbconvert_exporter": "python",
   "pygments_lexer": "ipython3",
   "version": "3.6.9"
  }
 },
 "nbformat": 4,
 "nbformat_minor": 4
}
