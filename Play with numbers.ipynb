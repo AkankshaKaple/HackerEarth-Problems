{
 "cells": [
  {
   "cell_type": "code",
   "execution_count": 41,
   "metadata": {},
   "outputs": [
    {
     "name": "stdout",
     "output_type": "stream",
     "text": [
      "3\n"
     ]
    }
   ],
   "source": [
    "import math\n",
    "# N, Q = map(int, input().split(\" \"))\n",
    "# num_lst = [0] + list(map(int, input().split(\" \")))\n",
    "N = 5\n",
    "Q = 1\n",
    "lst = [1, 2, 3, 4, 5]\n",
    "\n",
    "for query in range(Q):\n",
    "    x, y = map(int, \"1 3\".split())\n",
    "    if y >= len(lst):\n",
    "        y_ = y - len(lst)\n",
    "        r = lst[x:y] + lst[: y_+1]\n",
    "        print(x, y, y_, r)\n",
    "    else:\n",
    "        r = lst[x:y+1]\n",
    "        \n",
    "    \n",
    "    sum = 0\n",
    "    for i in r:\n",
    "        sum += i\n",
    "    print(sum// len(r))"
   ]
  },
  {
   "cell_type": "code",
   "execution_count": 31,
   "metadata": {},
   "outputs": [
    {
     "data": {
      "text/plain": [
       "([3, 4, 5], 3)"
      ]
     },
     "execution_count": 31,
     "metadata": {},
     "output_type": "execute_result"
    }
   ],
   "source": [
    "import math\n",
    "# N, Q = map(int, input().split(\" \"))\n",
    "# num_lst = [0] + list(map(int, input().split(\" \")))\n",
    "\n",
    "for query in range(Q):\n",
    "    x, y = map(int, \"1 3\".split())\n",
    "    if y >= len(lst):\n",
    "        y_ = y - len(lst)\n",
    "        r = lst[x:y] + lst[: y_+1]\n",
    "        print(x, y, y_, r)\n",
    "    else:\n",
    "        r = lst[x:y+1]\n",
    "        \n",
    "    \n",
    "    sum = 0\n",
    "    for i in r:\n",
    "        sum += i\n",
    "    print(sum// len(r))"
   ]
  },
  {
   "cell_type": "code",
   "execution_count": 3,
   "metadata": {},
   "outputs": [
    {
     "data": {
      "text/plain": [
       "3"
      ]
     },
     "execution_count": 3,
     "metadata": {},
     "output_type": "execute_result"
    }
   ],
   "source": [
    "import math\n",
    "math.floor(sum([3,4,5,1])/ 4)"
   ]
  },
  {
   "cell_type": "code",
   "execution_count": null,
   "metadata": {},
   "outputs": [],
   "source": [
    "[1, 2, 3, 4, 5]\n",
    "5 - 1 / "
   ]
  }
 ],
 "metadata": {
  "kernelspec": {
   "display_name": "Python 3",
   "language": "python",
   "name": "python3"
  },
  "language_info": {
   "codemirror_mode": {
    "name": "ipython",
    "version": 3
   },
   "file_extension": ".py",
   "mimetype": "text/x-python",
   "name": "python",
   "nbconvert_exporter": "python",
   "pygments_lexer": "ipython3",
   "version": "3.6.9"
  }
 },
 "nbformat": 4,
 "nbformat_minor": 4
}
