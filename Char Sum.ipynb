{
 "cells": [
  {
   "cell_type": "code",
   "execution_count": 5,
   "metadata": {},
   "outputs": [],
   "source": [
    "import string\n",
    "weight_dict = {}\n",
    "weight = 1\n",
    "for i in string.ascii_lowercase:\n",
    "    weight_dict[i] = weight\n",
    "    weight += 1\n",
    "    \n",
    "name = input()\n",
    "weight_sum = 0\n",
    "for i in name:\n",
    "    weight_sum = weight_sum + weight_dict[i]\n",
    "    \n",
    "print(weight_sum)"
   ]
  }
 ],
 "metadata": {
  "kernelspec": {
   "display_name": "Python 3",
   "language": "python",
   "name": "python3"
  },
  "language_info": {
   "codemirror_mode": {
    "name": "ipython",
    "version": 3
   },
   "file_extension": ".py",
   "mimetype": "text/x-python",
   "name": "python",
   "nbconvert_exporter": "python",
   "pygments_lexer": "ipython3",
   "version": "3.6.9"
  }
 },
 "nbformat": 4,
 "nbformat_minor": 4
}
