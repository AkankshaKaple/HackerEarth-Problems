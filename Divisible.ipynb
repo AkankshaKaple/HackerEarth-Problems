{
 "cells": [
  {
   "cell_type": "code",
   "execution_count": 8,
   "metadata": {},
   "outputs": [
    {
     "name": "stdin",
     "output_type": "stream",
     "text": [
      " 6\n",
      " 15478 8452 8232 874 985 4512\n"
     ]
    },
    {
     "name": "stdout",
     "output_type": "stream",
     "text": [
      "['1', '8', '8'] [4, 5, 2]\n",
      "188452 11\n",
      "OUI\n"
     ]
    }
   ],
   "source": [
    "def solve (A, n):\n",
    "    # Write your code here\n",
    "    first_half = A[: int(n)]\n",
    "    second_half = A[int(n):]\n",
    "\n",
    "    x = list(map(lambda n : str(n)[0], first_half))\n",
    "    y = list(map(lambda n : int(str(n)[-1]), second_half))\n",
    "    \n",
    "    digit1 = int(\"\".join(x + list(map(str, y)) ))\n",
    "    digit2 = sum(y)\n",
    "    if digit1 % 11 == 0:\n",
    "        return \"OUI\"\n",
    "    else:\n",
    "        return \"NON\"\n",
    "\n",
    "N = int(input())\n",
    "A = list(map(int, input().split()))\n",
    "out_ = solve(A, N/2)\n",
    "print (out_)"
   ]
  }
 ],
 "metadata": {
  "kernelspec": {
   "display_name": "Python 3",
   "language": "python",
   "name": "python3"
  },
  "language_info": {
   "codemirror_mode": {
    "name": "ipython",
    "version": 3
   },
   "file_extension": ".py",
   "mimetype": "text/x-python",
   "name": "python",
   "nbconvert_exporter": "python",
   "pygments_lexer": "ipython3",
   "version": "3.6.9"
  }
 },
 "nbformat": 4,
 "nbformat_minor": 4
}
